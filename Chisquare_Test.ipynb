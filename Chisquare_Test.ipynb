{
 "cells": [
  {
   "cell_type": "markdown",
   "id": "b5dd0944-a110-4f8d-80e5-0010e6a1c7a1",
   "metadata": {},
   "source": [
    "# Chi-square_Test"
   ]
  },
  {
   "cell_type": "markdown",
   "id": "27b3b44e-d8da-4a8c-8a4f-16988da59bc2",
   "metadata": {},
   "source": [
    "## Import Dependencies"
   ]
  },
  {
   "cell_type": "code",
   "execution_count": 1,
   "id": "ee3dfa25-ea67-4137-b4df-45af451743be",
   "metadata": {},
   "outputs": [],
   "source": [
    "import pandas as pd \n",
    "import math \n",
    "from scipy.stats import chi2_contingency"
   ]
  },
  {
   "cell_type": "markdown",
   "id": "c636216d-79fb-4c49-b46d-278dd6d04671",
   "metadata": {},
   "source": [
    "## Read the Data"
   ]
  },
  {
   "cell_type": "code",
   "execution_count": 2,
   "id": "69e1b415-550d-4384-aea9-709b8db52f61",
   "metadata": {},
   "outputs": [
    {
     "data": {
      "text/html": [
       "<div>\n",
       "<style scoped>\n",
       "    .dataframe tbody tr th:only-of-type {\n",
       "        vertical-align: middle;\n",
       "    }\n",
       "\n",
       "    .dataframe tbody tr th {\n",
       "        vertical-align: top;\n",
       "    }\n",
       "\n",
       "    .dataframe thead th {\n",
       "        text-align: right;\n",
       "    }\n",
       "</style>\n",
       "<table border=\"1\" class=\"dataframe\">\n",
       "  <thead>\n",
       "    <tr style=\"text-align: right;\">\n",
       "      <th></th>\n",
       "      <th>satisfaction</th>\n",
       "      <th>smart_thermostat</th>\n",
       "      <th>smart_light</th>\n",
       "      <th>total</th>\n",
       "    </tr>\n",
       "  </thead>\n",
       "  <tbody>\n",
       "    <tr>\n",
       "      <th>0</th>\n",
       "      <td>Very Satisfied</td>\n",
       "      <td>50</td>\n",
       "      <td>70</td>\n",
       "      <td>120</td>\n",
       "    </tr>\n",
       "    <tr>\n",
       "      <th>1</th>\n",
       "      <td>Satisfied</td>\n",
       "      <td>80</td>\n",
       "      <td>100</td>\n",
       "      <td>180</td>\n",
       "    </tr>\n",
       "    <tr>\n",
       "      <th>2</th>\n",
       "      <td>Neutral</td>\n",
       "      <td>60</td>\n",
       "      <td>90</td>\n",
       "      <td>150</td>\n",
       "    </tr>\n",
       "    <tr>\n",
       "      <th>3</th>\n",
       "      <td>Unsatisfied</td>\n",
       "      <td>30</td>\n",
       "      <td>50</td>\n",
       "      <td>80</td>\n",
       "    </tr>\n",
       "    <tr>\n",
       "      <th>4</th>\n",
       "      <td>Very Unsatisfied</td>\n",
       "      <td>20</td>\n",
       "      <td>50</td>\n",
       "      <td>70</td>\n",
       "    </tr>\n",
       "  </tbody>\n",
       "</table>\n",
       "</div>"
      ],
      "text/plain": [
       "       satisfaction  smart_thermostat  smart_light  total\n",
       "0    Very Satisfied                50           70    120\n",
       "1         Satisfied                80          100    180\n",
       "2           Neutral                60           90    150\n",
       "3       Unsatisfied                30           50     80\n",
       "4  Very Unsatisfied                20           50     70"
      ]
     },
     "execution_count": 2,
     "metadata": {},
     "output_type": "execute_result"
    }
   ],
   "source": [
    "dict = {'satisfaction': ['Very Satisfied','Satisfied','Neutral','Unsatisfied','Very Unsatisfied'],\n",
    "       'smart_thermostat':[50,80,60,30,20], 'smart_light':[70,100,90,50,50],\n",
    "       'total':[120,180,150,80,70]}\n",
    "data = pd.DataFrame(data=dict)\n",
    "data.head()"
   ]
  },
  {
   "cell_type": "markdown",
   "id": "61f20aff-9453-409f-bc22-c35cf333fefb",
   "metadata": {},
   "source": [
    "## State the Hypotheses:"
   ]
  },
  {
   "cell_type": "markdown",
   "id": "2100a7b8-f39d-43fc-83a2-af6fe4c4c837",
   "metadata": {},
   "source": [
    "Null Hypothesis (H₀): There is no association between the type of device purchased and customer satisfaction level (they are independent)."
   ]
  },
  {
   "cell_type": "markdown",
   "id": "2520d243-6a5a-4469-97eb-2f57dbfd48fb",
   "metadata": {},
   "source": [
    "Alternative Hypothesis (H₁): There is an association between the type of device purchased and customer satisfaction level (they are not independent)."
   ]
  },
  {
   "cell_type": "code",
   "execution_count": 3,
   "id": "4604071b-1049-4cf6-ba71-682d656b2c7c",
   "metadata": {},
   "outputs": [],
   "source": [
    "Alternative_Hypothesis = 'There is an association between the type of device purchased and customer satisfaction level (they are not independent).'\n",
    "\n",
    "Null_Hypothesis: 'There is no association between the type of device purchased and customer satisfaction level (they are independent).'"
   ]
  },
  {
   "cell_type": "markdown",
   "id": "26e76db0-10f4-45a5-b90d-dbbfa75e925c",
   "metadata": {},
   "source": [
    "## Calculate the Expected Frequencies:"
   ]
  },
  {
   "cell_type": "code",
   "execution_count": 4,
   "id": "63931a93-30ce-4f33-946c-fffcdad25b5a",
   "metadata": {},
   "outputs": [],
   "source": [
    "smart_thermostate = []\n",
    "\n",
    "smart_light = []\n",
    "\n",
    "grand_total = data.total.sum()\n",
    "\n",
    "for i in range(0,2): \n",
    "    for j in range(0,len(data)): \n",
    "        if i == 0:\n",
    "            expected_frequencies = (data.smart_thermostat.sum() * data['total'][j])/grand_total\n",
    "            smart_thermostate.append(expected_frequencies)\n",
    "        else : \n",
    "            expected_frequencies = (data.smart_light.sum() * data['total'][j])/grand_total\n",
    "            smart_light.append(expected_frequencies)\n",
    "\n"
   ]
  },
  {
   "cell_type": "code",
   "execution_count": 5,
   "id": "c846ceea-d2fd-4115-819f-674cc95fa3a2",
   "metadata": {},
   "outputs": [
    {
     "data": {
      "text/html": [
       "<div>\n",
       "<style scoped>\n",
       "    .dataframe tbody tr th:only-of-type {\n",
       "        vertical-align: middle;\n",
       "    }\n",
       "\n",
       "    .dataframe tbody tr th {\n",
       "        vertical-align: top;\n",
       "    }\n",
       "\n",
       "    .dataframe thead th {\n",
       "        text-align: right;\n",
       "    }\n",
       "</style>\n",
       "<table border=\"1\" class=\"dataframe\">\n",
       "  <thead>\n",
       "    <tr style=\"text-align: right;\">\n",
       "      <th></th>\n",
       "      <th>satisfaction</th>\n",
       "      <th>smart_thermostate</th>\n",
       "      <th>smart_light</th>\n",
       "    </tr>\n",
       "  </thead>\n",
       "  <tbody>\n",
       "    <tr>\n",
       "      <th>0</th>\n",
       "      <td>Very Satisfied</td>\n",
       "      <td>48.0</td>\n",
       "      <td>72.0</td>\n",
       "    </tr>\n",
       "    <tr>\n",
       "      <th>1</th>\n",
       "      <td>Satisfied</td>\n",
       "      <td>72.0</td>\n",
       "      <td>108.0</td>\n",
       "    </tr>\n",
       "    <tr>\n",
       "      <th>2</th>\n",
       "      <td>Neutral</td>\n",
       "      <td>60.0</td>\n",
       "      <td>90.0</td>\n",
       "    </tr>\n",
       "    <tr>\n",
       "      <th>3</th>\n",
       "      <td>Unsatisfied</td>\n",
       "      <td>32.0</td>\n",
       "      <td>48.0</td>\n",
       "    </tr>\n",
       "    <tr>\n",
       "      <th>4</th>\n",
       "      <td>Very Unsatisfied</td>\n",
       "      <td>28.0</td>\n",
       "      <td>42.0</td>\n",
       "    </tr>\n",
       "  </tbody>\n",
       "</table>\n",
       "</div>"
      ],
      "text/plain": [
       "       satisfaction  smart_thermostate  smart_light\n",
       "0    Very Satisfied               48.0         72.0\n",
       "1         Satisfied               72.0        108.0\n",
       "2           Neutral               60.0         90.0\n",
       "3       Unsatisfied               32.0         48.0\n",
       "4  Very Unsatisfied               28.0         42.0"
      ]
     },
     "execution_count": 5,
     "metadata": {},
     "output_type": "execute_result"
    }
   ],
   "source": [
    "expected_frequencies_data = pd.DataFrame(data={'satisfaction':list(data['satisfaction']),'smart_thermostate':smart_thermostate,'smart_light':smart_light})\n",
    "expected_frequencies_data.head()"
   ]
  },
  {
   "cell_type": "markdown",
   "id": "770d2bd9-f103-4e7d-924e-b24bb3324f36",
   "metadata": {},
   "source": [
    "## Calculate the Chi-square Statistic:"
   ]
  },
  {
   "cell_type": "code",
   "execution_count": 6,
   "id": "dc623f39-5b23-4c6b-ab0f-6ad34afc9d30",
   "metadata": {},
   "outputs": [
    {
     "data": {
      "text/plain": [
       "5.638227513227513"
      ]
     },
     "execution_count": 6,
     "metadata": {},
     "output_type": "execute_result"
    }
   ],
   "source": [
    "Chi_square = []\n",
    "\n",
    "for i in range(0,2):\n",
    "    for j in range(0,len(data)): \n",
    "        if i == 0: \n",
    "            Chi_square.append(math.pow(data['smart_thermostat'][j]-expected_frequencies_data['smart_thermostate'][j],2)/expected_frequencies_data['smart_thermostate'][j])\n",
    "        else : \n",
    "            Chi_square.append(math.pow(data['smart_light'][j]-expected_frequencies_data['smart_light'][j],2)/expected_frequencies_data['smart_light'][j])\n",
    "\n",
    "sum(Chi_square)"
   ]
  },
  {
   "cell_type": "markdown",
   "id": "d2f56b32-eace-478b-90b7-d7d49aad522b",
   "metadata": {},
   "source": [
    "## Calculate the Degrees of Freedom:"
   ]
  },
  {
   "cell_type": "code",
   "execution_count": 7,
   "id": "995ceee1-d1b7-459c-a5c0-b77091e7d8de",
   "metadata": {},
   "outputs": [
    {
     "data": {
      "text/plain": [
       "4"
      ]
     },
     "execution_count": 7,
     "metadata": {},
     "output_type": "execute_result"
    }
   ],
   "source": [
    "degrees_of_freedom = (len(data)-1) * (len(data.drop(columns=['satisfaction','total']).columns)-1)\n",
    "degrees_of_freedom"
   ]
  },
  {
   "cell_type": "markdown",
   "id": "24b6996a-deac-4d34-98f5-e5f40d5a2b90",
   "metadata": {},
   "source": [
    "## Find the Critical Value:"
   ]
  },
  {
   "cell_type": "code",
   "execution_count": 8,
   "id": "0b960e7f-9268-4145-9701-66440233295d",
   "metadata": {},
   "outputs": [],
   "source": [
    "alpha = 0.05\n",
    "p_value = 0.227846"
   ]
  },
  {
   "cell_type": "markdown",
   "id": "bc3fe55d-d4b2-4239-be85-3c7d5895a08f",
   "metadata": {},
   "source": [
    "### The P-Value is 0.227846 i got this from online p-value calculator"
   ]
  },
  {
   "cell_type": "code",
   "execution_count": 9,
   "id": "d49fac47-636e-4895-8901-1715650e5153",
   "metadata": {},
   "outputs": [
    {
     "name": "stdout",
     "output_type": "stream",
     "text": [
      "0.227846 < 0.05\n"
     ]
    }
   ],
   "source": [
    "print(f'{p_value} > {alpha}')"
   ]
  },
  {
   "cell_type": "code",
   "execution_count": 14,
   "id": "6617960f-f3c0-4194-81ad-610c8e7e1ae6",
   "metadata": {},
   "outputs": [
    {
     "name": "stdout",
     "output_type": "stream",
     "text": [
      "Since the p-value is greater than the significance level (α), we failed to reject the null hypothesis. \n",
      "This indicates that there is a no significant association between the type of smart home device purchased and the customer satisfaction level.\n"
     ]
    }
   ],
   "source": [
    "print('Since the p-value is greater than the significance level (α), we failed to reject the null hypothesis. \\nThis indicates that there is a no significant association between the type of smart home device purchased and the customer satisfaction level.')"
   ]
  },
  {
   "cell_type": "markdown",
   "id": "5726dc1e-d00a-41f8-891e-0e77fbe1bc2a",
   "metadata": {},
   "source": [
    "## Chi-square using stats module"
   ]
  },
  {
   "cell_type": "code",
   "execution_count": 11,
   "id": "f61ebf1a-73fc-4d2a-aa70-16f4a540a0b8",
   "metadata": {},
   "outputs": [],
   "source": [
    "chi2, p, dof, expected = chi2_contingency(data.drop(columns=['satisfaction','total']))"
   ]
  },
  {
   "cell_type": "code",
   "execution_count": 12,
   "id": "94612a6b-cc70-4e9f-a18e-db6127973c6b",
   "metadata": {},
   "outputs": [
    {
     "name": "stdout",
     "output_type": "stream",
     "text": [
      "Chi-square Statistic: 5.638227513227513\n",
      "P-value: 0.22784371130697179\n",
      "Degrees of Freedom: 4\n",
      "Expected Frequencies:\n",
      "[[ 48.  72.]\n",
      " [ 72. 108.]\n",
      " [ 60.  90.]\n",
      " [ 32.  48.]\n",
      " [ 28.  42.]]\n"
     ]
    }
   ],
   "source": [
    "print(f\"Chi-square Statistic: {chi2}\")\n",
    "print(f\"P-value: {p}\")\n",
    "print(f\"Degrees of Freedom: {dof}\")\n",
    "print(f\"Expected Frequencies:\\n{expected}\")"
   ]
  },
  {
   "cell_type": "code",
   "execution_count": null,
   "id": "e362601c-50c5-4022-9524-56af0c8c84ef",
   "metadata": {},
   "outputs": [],
   "source": []
  }
 ],
 "metadata": {
  "kernelspec": {
   "display_name": "Python 3 (ipykernel)",
   "language": "python",
   "name": "python3"
  },
  "language_info": {
   "codemirror_mode": {
    "name": "ipython",
    "version": 3
   },
   "file_extension": ".py",
   "mimetype": "text/x-python",
   "name": "python",
   "nbconvert_exporter": "python",
   "pygments_lexer": "ipython3",
   "version": "3.12.4"
  },
  "widgets": {
   "application/vnd.jupyter.widget-state+json": {
    "state": {},
    "version_major": 2,
    "version_minor": 0
   }
  }
 },
 "nbformat": 4,
 "nbformat_minor": 5
}
